{
  "nbformat": 4,
  "nbformat_minor": 0,
  "metadata": {
    "colab": {
      "provenance": []
    },
    "kernelspec": {
      "name": "python3",
      "display_name": "Python 3"
    },
    "language_info": {
      "name": "python"
    }
  },
  "cells": [
    {
      "cell_type": "code",
      "execution_count": 2,
      "metadata": {
        "id": "QnJBgBotjjpQ",
        "colab": {
          "base_uri": "https://localhost:8080/"
        },
        "outputId": "94c6b761-b026-432e-fc48-ac3bbe8de104"
      },
      "outputs": [
        {
          "output_type": "stream",
          "name": "stdout",
          "text": [
            "                     abilities  against_bug  against_dark  against_dragon  \\\n",
            "0  ['Overgrow', 'Chlorophyll']         1.00           1.0             1.0   \n",
            "1  ['Overgrow', 'Chlorophyll']         1.00           1.0             1.0   \n",
            "2  ['Overgrow', 'Chlorophyll']         1.00           1.0             1.0   \n",
            "3     ['Blaze', 'Solar Power']         0.50           1.0             1.0   \n",
            "4     ['Blaze', 'Solar Power']         0.50           1.0             1.0   \n",
            "5     ['Blaze', 'Solar Power']         0.25           1.0             1.0   \n",
            "6     ['Torrent', 'Rain Dish']         1.00           1.0             1.0   \n",
            "7     ['Torrent', 'Rain Dish']         1.00           1.0             1.0   \n",
            "8     ['Torrent', 'Rain Dish']         1.00           1.0             1.0   \n",
            "\n",
            "   against_electric  against_fairy  against_fight  against_fire  \\\n",
            "0               0.5            0.5            0.5           2.0   \n",
            "1               0.5            0.5            0.5           2.0   \n",
            "2               0.5            0.5            0.5           2.0   \n",
            "3               1.0            0.5            1.0           0.5   \n",
            "4               1.0            0.5            1.0           0.5   \n",
            "5               2.0            0.5            0.5           0.5   \n",
            "6               2.0            1.0            1.0           0.5   \n",
            "7               2.0            1.0            1.0           0.5   \n",
            "8               2.0            1.0            1.0           0.5   \n",
            "\n",
            "   against_flying  against_ghost  ...  percentage_male  pokedex_number  \\\n",
            "0             2.0            1.0  ...             88.1               1   \n",
            "1             2.0            1.0  ...             88.1               2   \n",
            "2             2.0            1.0  ...             88.1               3   \n",
            "3             1.0            1.0  ...             88.1               4   \n",
            "4             1.0            1.0  ...             88.1               5   \n",
            "5             1.0            1.0  ...             88.1               6   \n",
            "6             1.0            1.0  ...             88.1               7   \n",
            "7             1.0            1.0  ...             88.1               8   \n",
            "8             1.0            1.0  ...             88.1               9   \n",
            "\n",
            "   sp_attack  sp_defense  speed  type1   type2  weight_kg  generation  \\\n",
            "0         65          65     45  grass  poison        6.9           1   \n",
            "1         80          80     60  grass  poison       13.0           1   \n",
            "2        122         120     80  grass  poison      100.0           1   \n",
            "3         60          50     65   fire     NaN        8.5           1   \n",
            "4         80          65     80   fire     NaN       19.0           1   \n",
            "5        159         115    100   fire  flying       90.5           1   \n",
            "6         50          64     43  water     NaN        9.0           1   \n",
            "7         65          80     58  water     NaN       22.5           1   \n",
            "8        135         115     78  water     NaN       85.5           1   \n",
            "\n",
            "   is_legendary  \n",
            "0             0  \n",
            "1             0  \n",
            "2             0  \n",
            "3             0  \n",
            "4             0  \n",
            "5             0  \n",
            "6             0  \n",
            "7             0  \n",
            "8             0  \n",
            "\n",
            "[9 rows x 41 columns]\n"
          ]
        },
        {
          "output_type": "execute_result",
          "data": {
            "text/plain": [
              "Index(['abilities', 'against_bug', 'against_dark', 'against_dragon',\n",
              "       'against_electric', 'against_fairy', 'against_fight', 'against_fire',\n",
              "       'against_flying', 'against_ghost', 'against_grass', 'against_ground',\n",
              "       'against_ice', 'against_normal', 'against_poison', 'against_psychic',\n",
              "       'against_rock', 'against_steel', 'against_water', 'attack',\n",
              "       'base_egg_steps', 'base_happiness', 'base_total', 'capture_rate',\n",
              "       'classfication', 'defense', 'experience_growth', 'height_m', 'hp',\n",
              "       'japanese_name', 'name', 'percentage_male', 'pokedex_number',\n",
              "       'sp_attack', 'sp_defense', 'speed', 'type1', 'type2', 'weight_kg',\n",
              "       'generation', 'is_legendary'],\n",
              "      dtype='object')"
            ]
          },
          "metadata": {},
          "execution_count": 2
        }
      ],
      "source": [
        "# Question 1\n",
        "\n",
        "import pandas as pd\n",
        "\n",
        "poke_data = pd.read_csv('/content/pokemon.csv', sep = ',')\n",
        "poke_data = poke_data.head(9)\n",
        "print(poke_data)\n",
        "\n",
        "poke_data.columns"
      ]
    },
    {
      "cell_type": "code",
      "source": [
        "# Question 2\n",
        "\n",
        "for name, abilities in zip(poke_data['name'], poke_data['abilities']):\n",
        "     print(name, '=', abilities)"
      ],
      "metadata": {
        "colab": {
          "base_uri": "https://localhost:8080/"
        },
        "id": "Imn0HsX2lcrA",
        "outputId": "73568198-e660-4f40-cd58-4ce0641240c5"
      },
      "execution_count": 3,
      "outputs": [
        {
          "output_type": "stream",
          "name": "stdout",
          "text": [
            "Bulbasaur = ['Overgrow', 'Chlorophyll']\n",
            "Ivysaur = ['Overgrow', 'Chlorophyll']\n",
            "Venusaur = ['Overgrow', 'Chlorophyll']\n",
            "Charmander = ['Blaze', 'Solar Power']\n",
            "Charmeleon = ['Blaze', 'Solar Power']\n",
            "Charizard = ['Blaze', 'Solar Power']\n",
            "Squirtle = ['Torrent', 'Rain Dish']\n",
            "Wartortle = ['Torrent', 'Rain Dish']\n",
            "Blastoise = ['Torrent', 'Rain Dish']\n"
          ]
        }
      ]
    },
    {
      "cell_type": "code",
      "source": [
        "# Question 3\n",
        "\n",
        "print(poke_data['against_fight'])\n",
        "# 9 total values, but only 2 unique values (0.5 and 1.0)\n",
        "\n",
        "half_count = 0\n",
        "for pokemon in poke_data['against_fight']:\n",
        "  # print(pokemon)\n",
        "  if pokemon == 0.5:\n",
        "    print(pokemon)\n",
        "    half_count += 1\n",
        "print('Pokemon with a 0.5 \"against_fight\" score =', half_count)"
      ],
      "metadata": {
        "colab": {
          "base_uri": "https://localhost:8080/"
        },
        "id": "93PP1Q6bn9bG",
        "outputId": "9d262671-f64e-48a7-e044-1d921f9e3a72"
      },
      "execution_count": 6,
      "outputs": [
        {
          "output_type": "stream",
          "name": "stdout",
          "text": [
            "0    0.5\n",
            "1    0.5\n",
            "2    0.5\n",
            "3    1.0\n",
            "4    1.0\n",
            "5    0.5\n",
            "6    1.0\n",
            "7    1.0\n",
            "8    1.0\n",
            "Name: against_fight, dtype: float64\n",
            "0.5\n",
            "0.5\n",
            "0.5\n",
            "0.5\n",
            "Pokemon with a 0.5 \"against_fight\" score = 4\n"
          ]
        }
      ]
    },
    {
      "cell_type": "code",
      "source": [
        "# Question 4\n",
        "\n",
        "weight_sum = 0\n",
        "for weight in poke_data['weight_kg']:\n",
        "  weight_sum += weight\n",
        "print('Weight Sum =', weight_sum, 'kg')"
      ],
      "metadata": {
        "colab": {
          "base_uri": "https://localhost:8080/"
        },
        "id": "bbEgvIGHs6So",
        "outputId": "9f96c4e9-304c-4054-9a11-f792709b0727"
      },
      "execution_count": 50,
      "outputs": [
        {
          "output_type": "stream",
          "name": "stdout",
          "text": [
            "Weight Sum = 354.9 kg\n"
          ]
        }
      ]
    },
    {
      "cell_type": "code",
      "source": [
        "# Question 5\n",
        "\n",
        "height_sum = 0\n",
        "for height in poke_data['height_m']:\n",
        "  height_sum += height\n",
        "height_mean_m = height_sum/len(poke_data['height_m'])\n",
        "height_mean = height_mean_m * 100\n",
        "\n",
        "print('Average Height =', height_mean, 'centimeters')"
      ],
      "metadata": {
        "colab": {
          "base_uri": "https://localhost:8080/"
        },
        "id": "WY4Ct0zwteW3",
        "outputId": "4b53bab1-ca1e-4435-bc50-b5acfc0daf09"
      },
      "execution_count": 51,
      "outputs": [
        {
          "output_type": "stream",
          "name": "stdout",
          "text": [
            "Average Height = 113.33333333333336 centimeters\n"
          ]
        }
      ]
    },
    {
      "cell_type": "code",
      "source": [
        "# Question 6\n",
        "\n",
        "fast_poke = []\n",
        "med_poke = []\n",
        "slow_poke = []\n",
        "\n",
        "name = poke_data['name']\n",
        "speed = poke_data['speed']\n",
        "\n",
        "for name, speed in zip(name, speed):\n",
        "  if speed > 80:\n",
        "    fast_poke.append(name)\n",
        "  elif speed < 50:\n",
        "    slow_poke.append(name)\n",
        "  else:\n",
        "    med_poke.append(name)\n",
        "\n",
        "print('Fast Pokemon =', fast_poke)\n",
        "print('Medium Pokemon =', med_poke)\n",
        "print('Slow Pokemon =', slow_poke)"
      ],
      "metadata": {
        "colab": {
          "base_uri": "https://localhost:8080/"
        },
        "id": "2BSUGAGEupGk",
        "outputId": "9a89afd1-497f-436f-a53d-5a0f2e7260b1"
      },
      "execution_count": 63,
      "outputs": [
        {
          "output_type": "stream",
          "name": "stdout",
          "text": [
            "Fast Pokemon = ['Charizard']\n",
            "Medium Pokemon = ['Ivysaur', 'Venusaur', 'Charmander', 'Charmeleon', 'Wartortle', 'Blastoise']\n",
            "Slow Pokemon = ['Bulbasaur', 'Squirtle']\n"
          ]
        }
      ]
    }
  ]
}